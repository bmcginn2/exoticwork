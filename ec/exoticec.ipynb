{
  "nbformat": 4,
  "nbformat_minor": 0,
  "metadata": {
    "colab": {
      "provenance": []
    },
    "kernelspec": {
      "name": "python3",
      "display_name": "Python 3"
    },
    "language_info": {
      "name": "python"
    }
  },
  "cells": [
    {
      "cell_type": "code",
      "execution_count": null,
      "metadata": {
        "colab": {
          "base_uri": "https://localhost:8080/"
        },
        "id": "62nVv0Wb-TpO",
        "outputId": "fb4452da-2c63-4ed5-c746-b5f79ad608d5"
      },
      "outputs": [
        {
          "output_type": "stream",
          "name": "stdout",
          "text": [
            "Enter a string to see if the language accepts it: abb\n",
            "Current State:  q1  Current Input: a  Next State:  q2\n",
            "Current State:  q2  Current Input: b  Next State:  q2\n",
            "Current State:  q2  Current Input: b  Next State:  q3\n",
            "abb  is accepted by the language.\n"
          ]
        }
      ],
      "source": [
        "class Automata:\n",
        "    def __init__(self, states, lang_alphabet, initial_state, final_states, transitions):\n",
        "        self.states = states\n",
        "        self.lang_alphabet = lang_alphabet\n",
        "        self.initial_state = initial_state\n",
        "        self.final_states = final_states\n",
        "        self.transitions = transitions\n",
        "        self.tape = []\n",
        "        self.head = 0\n",
        "\n",
        "    def run(self, input_string):\n",
        "        self.tape = list(input_string)\n",
        "        self.tape += ['$']  # Add blank symbol to the end\n",
        "        self.head = 0\n",
        "        current_state = self.initial_state\n",
        "\n",
        "        while current_state not in self.final_states:\n",
        "            current_symbol = self.tape[self.head]\n",
        "            if (current_state, current_symbol) not in self.transitions:\n",
        "                return False  # No transition defined\n",
        "            new_state = self.transitions[(current_state, current_symbol)]\n",
        "            if new_state == 'qE3':\n",
        "              if self.tape[self.head] == '$':\n",
        "                new_state = 'q3'\n",
        "              elif self.tape[self.head+1] == '$':\n",
        "                new_state = 'q3'\n",
        "              else:\n",
        "                new_state = 'q2'\n",
        "            if new_state == 'qE4':\n",
        "              if self.tape[self.head+1] == '$':\n",
        "                new_state = 'q4'\n",
        "              else:\n",
        "                new_state = 'q2'\n",
        "            self.head += 1\n",
        "            print(\"Current State: \", current_state, \" Current Input:\", current_symbol, \" Next State: \", new_state)\n",
        "            current_state = new_state\n",
        "\n",
        "        return True  # Reached final state\n",
        "\n",
        "\n",
        "# Example usage\n",
        "states = {'q1', 'q2', 'q3', 'q4', 'qE3', 'qE4'}\n",
        "lang_alphabet = {'a', 'b', 'c', '$'}\n",
        "initial_state = 'q1'\n",
        "final_states = {'q3', 'q4'}\n",
        "transitions = {\n",
        "    ('q1', '$') : ('qE3'),\n",
        "    ('q1', 'a'): ('q2'),\n",
        "    ('q2', 'b'): ('qE3'),\n",
        "    ('q2', 'c'): ('qE4'),\n",
        "    ('q2', 'a'): ('q2'),\n",
        "}\n",
        "\n",
        "language = Automata(states, lang_alphabet, initial_state, final_states, transitions)\n",
        "string = input(\"Enter a string to see if the language accepts it: \")\n",
        "for x in list(string):\n",
        "  if x not in lang_alphabet:\n",
        "    print(\"Invalid input\")\n",
        "    exit()\n",
        "result = language.run(string)\n",
        "if result:\n",
        "    print(string, \" is accepted by the language.\")\n",
        "else:\n",
        "    print(string, \" is not accepted by the language.\")\n"
      ]
    }
  ]
}